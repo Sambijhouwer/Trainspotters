{
 "cells": [
  {
   "cell_type": "markdown",
   "metadata": {},
   "source": [
    "# State space"
   ]
  },
  {
   "cell_type": "markdown",
   "metadata": {},
   "source": [
    "### Variabelen Noord- en Zuid-Holland case:\n",
    "- Er zijn 22 stations\n",
    "- Er zijn 28 connecties\n",
    "- Er mogen maximaal 7 trajecten gevormd worden\n",
    "- De trajecten mogen niet langer duren dan 2 uur\n",
    "\n",
    "### Variabelen Noord- en Zuid-Holland case:\n",
    "- Er zijn 61 stations\n",
    "- Er zijn 89 connecties\n",
    "- Er mogen maximaal 20 trajecten gevormd worden\n",
    "- De trajecten mogen niet langer duren dan 3 uur"
   ]
  },
  {
   "cell_type": "markdown",
   "metadata": {},
   "source": [
    "### Versimpelde aannames:\n",
    "- Het feit dat een traject aaneensluitend moet zijn laten we in deze berekening even zitten, aangezien deze restrictie er toch voor zal zorgen dat het aantal opties verminderd. \n",
    "- We kijken in deze berekening niet naar het maximaal aantal uren dat een traject mag duren, aangezien deze restrictie er toch voor zal zorgen dat het aantal opties verminderd.\n",
    "- We gaan ervan uit dat het maximaal aantal trajecten volledig benut wordt\n"
   ]
  },
  {
   "cell_type": "markdown",
   "metadata": {},
   "source": [
    "## Formule:\n",
    "\n",
    "- Volgorde is niet belangrijk\n",
    "- Er is geen 'repetition' in keuzes\n",
    "\n",
    "![state-space formule](https://i.imgur.com/trLiSh4.png)"
   ]
  },
  {
   "cell_type": "markdown",
   "metadata": {},
   "source": [
    "Versimpeld voorbeeld\n",
    "\n",
    "![voorbeeld formule](https://i.imgur.com/BPaUlEM.jpeg)"
   ]
  },
  {
   "cell_type": "code",
   "execution_count": 2,
   "metadata": {},
   "outputs": [
    {
     "name": "stdout",
     "output_type": "stream",
     "text": [
      "268435455\n"
     ]
    }
   ],
   "source": [
    "import math\n",
    "\n",
    "total = 0\n",
    "\n",
    "for i in range(1, 29):\n",
    "    options = math.factorial(28) / (math.factorial(i) * math.factorial(28 - i))\n",
    "    total += options\n",
    "\n",
    "print(int(total))"
   ]
  },
  {
   "cell_type": "markdown",
   "metadata": {},
   "source": [
    "Voor de Noord- en Zuid-Holland case zijn er 268.435.455 verschillende opties binnen een traject. Dat betekent 268.435.455 over 7 verschillende combinaties aan trajecten. Dat komt neer op 1,0043362514717598739412249269137e+59."
   ]
  }
 ],
 "metadata": {
  "interpreter": {
   "hash": "44818db9d31326dcabf41a90a5a68dcb98abd159235ef8aa2f78d9cc3f591953"
  },
  "kernelspec": {
   "display_name": "Python 3.9.9 64-bit (windows store)",
   "language": "python",
   "name": "python3"
  },
  "language_info": {
   "codemirror_mode": {
    "name": "ipython",
    "version": 3
   },
   "file_extension": ".py",
   "mimetype": "text/x-python",
   "name": "python",
   "nbconvert_exporter": "python",
   "pygments_lexer": "ipython3",
   "version": "3.9.9"
  },
  "orig_nbformat": 4
 },
 "nbformat": 4,
 "nbformat_minor": 2
}
